{
  "nbformat": 4,
  "nbformat_minor": 0,
  "metadata": {
    "colab": {
      "provenance": [],
      "include_colab_link": true
    },
    "kernelspec": {
      "name": "python3",
      "display_name": "Python 3"
    },
    "language_info": {
      "name": "python"
    }
  },
  "cells": [
    {
      "cell_type": "markdown",
      "metadata": {
        "id": "view-in-github",
        "colab_type": "text"
      },
      "source": [
        "<a href=\"https://colab.research.google.com/github/NataKrj/AI-project-2024/blob/main/Step_1_sanction_list.ipynb\" target=\"_parent\"><img src=\"https://colab.research.google.com/assets/colab-badge.svg\" alt=\"Open In Colab\"/></a>"
      ]
    },
    {
      "cell_type": "markdown",
      "source": [
        "# I. Sanction list check"
      ],
      "metadata": {
        "id": "ZKnITnhz0rKj"
      }
    },
    {
      "cell_type": "code",
      "execution_count": 1,
      "metadata": {
        "colab": {
          "base_uri": "https://localhost:8080/"
        },
        "id": "dhxrU0ZFUugS",
        "outputId": "f966d18c-f4b8-46b6-8f69-2f45b467e4d2"
      },
      "outputs": [
        {
          "output_type": "stream",
          "name": "stdout",
          "text": [
            "Sanctioned names saved to 'sanction_list.csv'\n"
          ]
        }
      ],
      "source": [
        "\n",
        "\n",
        "import pandas as pd\n",
        "\n",
        "# URLs for the CSV files\n",
        "url1 = 'https://www.treasury.gov/ofac/downloads/sdn.csv'\n",
        "url2 = 'https://www.treasury.gov/ofac/downloads/consolidated/cons_alt.csv'\n",
        "\n",
        "# Read data from the first CSV file\n",
        "df1 = pd.read_csv(url1, on_bad_lines='skip')\n",
        "sanction_list_url1 = df1.iloc[:, 1].dropna().unique()\n",
        "\n",
        "# Read data from the second CSV file\n",
        "df2 = pd.read_csv(url2, on_bad_lines='skip')\n",
        "sanction_list_url2 = df2.iloc[:, 3].dropna().unique()\n",
        "\n",
        "# Combine the names from both CSV files\n",
        "sanction_list = list(set(sanction_list_url1) | set(sanction_list_url2))\n",
        "\n",
        "# Create a DataFrame from the combined names\n",
        "sanction_list_df = pd.DataFrame({'Sanctioned Names': sanction_list})\n",
        "\n",
        "# Save the DataFrame to a CSV file\n",
        "sanction_list_df.to_csv('sanction_list.csv', index=False)\n",
        "\n",
        "print(\"Sanctioned names saved to 'sanction_list.csv'\")"
      ]
    },
    {
      "cell_type": "code",
      "source": [
        "import pandas as pd\n",
        "\n",
        "# Paths to the files\n",
        "uploaded_file_path = 'BELGIUM_companies_short.xlsx'  # Replace with your file path\n",
        "sanction_list_file_path = 'sanction_list.csv'  # Replace with your file path\n",
        "\n",
        "# Load the companies file\n",
        "companies_df = pd.read_excel(uploaded_file_path)\n",
        "\n",
        "# Load the sanction list\n",
        "sanction_list_df = pd.read_csv(sanction_list_file_path)\n",
        "\n",
        "# Normalize the sanction list for case-insensitive matching\n",
        "sanctioned_names = set(sanction_list_df['Sanctioned Names'].str.lower())\n",
        "\n",
        "# Evaluate if company names are in the sanction list\n",
        "companies_df['Evaluation'] = companies_df['Name'].str.lower().apply(\n",
        "    lambda name: 30 if name in sanctioned_names else 0\n",
        ")\n",
        "\n",
        "# Save the updated DataFrame to a new file\n",
        "output_file_path = 'Step_1_evaluated_companies.xlsx'  # Replace with your desired output path\n",
        "companies_df.to_excel(output_file_path, index=False)\n",
        "\n",
        "print(f\"Evaluation complete. Results saved to {output_file_path}\")\n"
      ],
      "metadata": {
        "colab": {
          "base_uri": "https://localhost:8080/"
        },
        "id": "udXl_T6-2r1x",
        "outputId": "91f53dde-53f7-4c96-ffc0-7fab6a5716c5"
      },
      "execution_count": 3,
      "outputs": [
        {
          "output_type": "stream",
          "name": "stdout",
          "text": [
            "Evaluation complete. Results saved to Step_1_evaluated_companies.xlsx\n"
          ]
        }
      ]
    }
  ]
}